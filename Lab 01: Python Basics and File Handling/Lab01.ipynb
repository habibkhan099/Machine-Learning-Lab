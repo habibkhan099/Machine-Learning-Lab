{
 "cells": [
  {
   "cell_type": "markdown",
   "id": "4d6b0425-a7af-450d-ba5b-7103885bb2e3",
   "metadata": {},
   "source": [
    "<h1>LAB# 01: Questions</h1>\n",
    "<br><br>\n",
    "<h3>Question 01. Write a Python script that calculates the factorial of a given number.</h3>"
   ]
  },
  {
   "cell_type": "code",
   "execution_count": 23,
   "id": "6941b3a7",
   "metadata": {},
   "outputs": [],
   "source": [
    "def calculate_fact(num):\n",
    "    fact = 1\n",
    "    while num > 0:\n",
    "        fact = num * fact\n",
    "        num -= 1\n",
    "    return fact      "
   ]
  },
  {
   "cell_type": "markdown",
   "id": "2e384cfa",
   "metadata": {},
   "source": [
    "Calling The Factorial Function"
   ]
  },
  {
   "cell_type": "code",
   "execution_count": 24,
   "id": "a35c1067",
   "metadata": {},
   "outputs": [
    {
     "data": {
      "text/plain": [
       "24"
      ]
     },
     "execution_count": 24,
     "metadata": {},
     "output_type": "execute_result"
    }
   ],
   "source": [
    "calculate_fact(4)"
   ]
  },
  {
   "cell_type": "markdown",
   "id": "9d691015",
   "metadata": {},
   "source": [
    "<h3>Quetion 02. Create a JSON file containing a list of items, read it, and print its contents.\n",
    "<br>Sol: Creating and writting.</h3>"
   ]
  },
  {
   "cell_type": "code",
   "execution_count": 25,
   "id": "f96590d1",
   "metadata": {},
   "outputs": [
    {
     "name": "stdout",
     "output_type": "stream",
     "text": [
      "JSON file 'items.json' created and data written successfully!\n"
     ]
    }
   ],
   "source": [
    "import json\n",
    "\n",
    "data = {\n",
    " \"Items\": [\n",
    "     {\"name\": \"Book\", \"price\": 250,},\n",
    "     {\"name\": \"pen\", \"price\": 50,},\n",
    "     {\"name\": \"Chair\", \"price\": 500,},\n",
    "     {\"name\": \"sheets\", \"price\": 150,},\n",
    " ]\n",
    "}\n",
    "# Creating and writing to a JSON file\n",
    "with open('items.json', mode='w') as file:\n",
    " json.dump(data, file, indent=4) \n",
    "print(\"JSON file 'items.json' created and data written successfully!\")"
   ]
  },
  {
   "cell_type": "markdown",
   "id": "c1a738c5",
   "metadata": {},
   "source": [
    "To read and print its contents"
   ]
  },
  {
   "cell_type": "code",
   "execution_count": 26,
   "id": "4da40da1",
   "metadata": {},
   "outputs": [
    {
     "name": "stdout",
     "output_type": "stream",
     "text": [
      "{'Items': [{'name': 'Book', 'price': 250}, {'name': 'pen', 'price': 50}, {'name': 'Chair', 'price': 500}, {'name': 'sheets', 'price': 150}]}\n"
     ]
    }
   ],
   "source": [
    "with open('items.json', mode='r') as file:\n",
    "     data = json.load(file) \n",
    "print(data)"
   ]
  },
  {
   "cell_type": "markdown",
   "id": "5dcd9b52",
   "metadata": {},
   "source": [
    "<h1>Question 03. Document the steps to open and execute a notebook in Jupyter.</h1>"
   ]
  },
  {
   "cell_type": "markdown",
   "id": "8cedca7a",
   "metadata": {},
   "source": [
    "<h3><u>Steps to open and execute Notebook in Jupyter:</u></h3>\n",
    "<p>\n",
    "<b>Step 01: Install Jupyter Notebook:</b><br>\n",
    "Open a terminal in VS code and type the following command to install Jupyter:<br>\n",
    "\"pip install notebook\"\n",
    "</p>\n",
    "\n",
    "<p>\n",
    "<b>Step 02: Launch Jupyter Notebook:</b><br>\n",
    "type:<br>\"jupyter notebook\"<br>\n",
    "This will open the Jupyter interface in your browser.\n",
    "</p>\n",
    "\n",
    "<p>\n",
    "<b>Step 03: Open/Create Notebook:</b><br>\n",
    "Click on an existing .ipynb file to open it, or click \"New\" file  and select Python 3 </b> to create a new notebook.\n",
    "</p>\n",
    "\n",
    "<p>\n",
    "<b>Step 04: Run and Save:</b><br>\n",
    "Write code in a cell, press Shift + Enter to execute it, and click the save icon to save your work.<br>\n",
    "Press Ctrl + C in the terminal to stop the server when you're done.\n",
    "</p>\n"
   ]
  },
  {
   "cell_type": "markdown",
   "id": "6cc1f8d9",
   "metadata": {},
   "source": [
    "<h1>Examples:</h1>"
   ]
  },
  {
   "cell_type": "code",
   "execution_count": 27,
   "id": "ab2a78ca-f073-4999-a251-13857b30fcd3",
   "metadata": {},
   "outputs": [],
   "source": [
    "name = \"Habib\" \n",
    "age = 22"
   ]
  },
  {
   "cell_type": "code",
   "execution_count": 28,
   "id": "85360213-5b90-418a-9db5-d6511eb3ed87",
   "metadata": {},
   "outputs": [
    {
     "name": "stdout",
     "output_type": "stream",
     "text": [
      "I love apple\n",
      "I love banana\n",
      "I love cherry\n"
     ]
    }
   ],
   "source": [
    "fruits = [\"apple\", \"banana\", \"cherry\"] \n",
    "for fruit in fruits:\n",
    "    print(f\"I love {fruit}\")\n"
   ]
  },
  {
   "cell_type": "code",
   "execution_count": 29,
   "id": "1161b7ec-8070-40d4-8cbe-62efcd9bb2e9",
   "metadata": {},
   "outputs": [
    {
     "name": "stdout",
     "output_type": "stream",
     "text": [
      "Hello, Alice!\n"
     ]
    }
   ],
   "source": [
    "def greet(name):\n",
    " return f\"Hello, {name}!\" \n",
    "print(greet(\"Alice\"))\n"
   ]
  },
  {
   "cell_type": "code",
   "execution_count": 2,
   "id": "89bd268d-7891-4621-9b81-fa994eb49f4f",
   "metadata": {},
   "outputs": [
    {
     "name": "stdout",
     "output_type": "stream",
     "text": [
      "CSV file 'General.csv' created and data written successfully!\n"
     ]
    }
   ],
   "source": [
    "import csv\n",
    "data = [\n",
    " [\"Name\", \"Age\", \"City\"], \n",
    " [\"John\", 25, \"New York\"],\n",
    " [\"Anna\", 30, \"Los Angeles\"],\n",
    " [\"Mike\", 35, \"Chicago\"]\n",
    "]\n",
    "with open('General.csv', mode='w', newline='') as file:\n",
    " writer = csv.writer(file)\n",
    " writer.writerows(data) # Write multiple rows\n",
    "print(\"CSV file 'General.csv' created and data written successfully!\")\n",
    "\n"
   ]
  },
  {
   "cell_type": "markdown",
   "id": "9c43876f-d41e-4893-95d4-9d525626edfa",
   "metadata": {},
   "source": [
    "<h2>Read from CSV file</h2>"
   ]
  },
  {
   "cell_type": "code",
   "execution_count": 31,
   "id": "c7023af0-71e4-459d-a346-820c890f268a",
   "metadata": {},
   "outputs": [
    {
     "name": "stdout",
     "output_type": "stream",
     "text": [
      "['Name', 'Age', 'City']\n",
      "['John', '25', 'New York']\n",
      "['Anna', '30', 'Los Angeles']\n",
      "['Mike', '35', 'Chicago']\n"
     ]
    }
   ],
   "source": [
    "import csv\n",
    "with open('General.csv', mode='r') as file:\n",
    " reader = csv.reader(file)\n",
    " for row in reader:\n",
    "     print(row) # Print each row"
   ]
  },
  {
   "cell_type": "markdown",
   "id": "6418b344-80c8-4505-bc7b-1dc7ce3f105a",
   "metadata": {},
   "source": [
    "<h2> Append to a CSV File</h2>"
   ]
  },
  {
   "cell_type": "code",
   "execution_count": 32,
   "id": "d2362b02-b7b6-441f-85e2-2f7ba8b7804a",
   "metadata": {},
   "outputs": [
    {
     "name": "stdout",
     "output_type": "stream",
     "text": [
      "New data appended to 'people_list.csv' successfully!\n"
     ]
    }
   ],
   "source": [
    "import csv\n",
    "# Data to append\n",
    "new_data = [\"Habib\", 22, \"Taxila\"]\n",
    "# Appending to the CSV file\n",
    "with open('General.csv', mode='a', newline='') as file:\n",
    "     writer = csv.writer(file)\n",
    "     writer.writerow(new_data) # Write a single row\n",
    "print(\"New data appended to 'people_list.csv' successfully!\")\n"
   ]
  },
  {
   "cell_type": "markdown",
   "id": "84a25b7f-d021-4890-907f-1d74c7909b45",
   "metadata": {},
   "source": [
    "<h2>For JSON Files<br>\n",
    "1. Create and Write to a JSON File</h2>"
   ]
  },
  {
   "cell_type": "code",
   "execution_count": 33,
   "id": "27dba87b-e621-422a-9297-a9266fb288e9",
   "metadata": {},
   "outputs": [
    {
     "name": "stdout",
     "output_type": "stream",
     "text": [
      "JSON file 'General.json' created and data written successfully!\n"
     ]
    }
   ],
   "source": [
    "import json\n",
    "# Data to write (dictionary)\n",
    "data = {\n",
    " \"people\": [\n",
    " {\"name\": \"John\", \"age\": 25, \"city\": \"New York\"},\n",
    " {\"name\": \"Anna\", \"age\": 30, \"city\": \"Los Angeles\"},\n",
    " {\"name\": \"Mike\", \"age\": 35, \"city\": \"Chicago\"}\n",
    " ]\n",
    "}\n",
    "# Creating and writing to a JSON file\n",
    "with open('people_data.json', mode='w') as file:\n",
    " json.dump(data, file, indent=4) # Write JSON with indentation for readability\n",
    "print(\"JSON file 'General.json' created and data written successfully!\")\n"
   ]
  },
  {
   "cell_type": "markdown",
   "id": "161fac7b",
   "metadata": {},
   "source": [
    "<h2>2. Read from a JSON File</h2>"
   ]
  },
  {
   "cell_type": "code",
   "execution_count": 34,
   "id": "cb4d0586-8d2f-455b-8389-3e5d513faa21",
   "metadata": {},
   "outputs": [
    {
     "name": "stdout",
     "output_type": "stream",
     "text": [
      "{'people': [{'name': 'John', 'age': 25, 'city': 'New York'}, {'name': 'Anna', 'age': 30, 'city': 'Los Angeles'}, {'name': 'Mike', 'age': 35, 'city': 'Chicago'}]}\n"
     ]
    }
   ],
   "source": [
    "import json\n",
    "with open('people_data.json', mode='r') as file:\n",
    " data = json.load(file) # Load the data as a Python dictionary\n",
    "# Print the content of the file\n",
    "print(data)"
   ]
  },
  {
   "cell_type": "markdown",
   "id": "a773355b-9ea9-4fbc-b2ff-f16f92ce7dbb",
   "metadata": {},
   "source": [
    "<h2>Append to JSON file</h2>"
   ]
  },
  {
   "cell_type": "code",
   "execution_count": 35,
   "id": "c0f07c35-22a3-46aa-89ce-bb950b1a4ad5",
   "metadata": {},
   "outputs": [
    {
     "name": "stdout",
     "output_type": "stream",
     "text": [
      "New data appended to 'people_data.json' successfully!\n"
     ]
    }
   ],
   "source": [
    "import json\n",
    "# Data to append\n",
    "new_entry = {\"name\": \"Sarah\", \"age\": 28, \"city\": \"Houston\"}\n",
    "# Reading the current file\n",
    "with open('people_data.json', mode='r') as file:\n",
    " data = json.load(file)\n",
    "# Append the new data\n",
    "data[\"people\"].append(new_entry)\n",
    "# Writing back the updated data\n",
    "with open('people_data.json', mode='w') as file:\n",
    " json.dump(data, file, indent=4) # Re-write the updated data with indentation\n",
    "print(\"New data appended to 'people_data.json' successfully!\")\n"
   ]
  }
 ],
 "metadata": {
  "kernelspec": {
   "display_name": "base",
   "language": "python",
   "name": "python3"
  },
  "language_info": {
   "codemirror_mode": {
    "name": "ipython",
    "version": 3
   },
   "file_extension": ".py",
   "mimetype": "text/x-python",
   "name": "python",
   "nbconvert_exporter": "python",
   "pygments_lexer": "ipython3",
   "version": "3.12.7"
  }
 },
 "nbformat": 4,
 "nbformat_minor": 5
}
